{
 "cells": [
  {
   "cell_type": "code",
   "execution_count": 3,
   "outputs": [],
   "source": [
    "# https://github.com/jleuschen17/EE399/tree/master/homework4"
   ],
   "metadata": {
    "collapsed": false,
    "pycharm": {
     "name": "#%%\n"
    }
   }
  },
  {
   "cell_type": "code",
   "execution_count": null,
   "outputs": [],
   "source": [
    "import math\n",
    "from sklearn.metrics import accuracy_score\n",
    "from keras.datasets import mnist\n",
    "from sklearn.tree import DecisionTreeClassifier\n",
    "from sklearn.svm import SVC\n",
    "import torch\n",
    "import torch.nn as nn\n",
    "import torch.optim as optim\n",
    "import numpy as np"
   ],
   "metadata": {
    "collapsed": false,
    "pycharm": {
     "name": "#%%\n",
     "is_executing": true
    }
   }
  },
  {
   "cell_type": "code",
   "execution_count": null,
   "outputs": [],
   "source": [
    "X = torch.tensor(np.arange(0, 31), dtype=torch.float32).view(-1, 1)\n",
    "Y = torch.tensor(np.array([30, 35, 33, 32, 34, 37, 39, 38, 36, 36, 37, 39, 42, 45, 45, 41, 40, 39, 42, 44, 47, 49, 50, 49, 46, 48, 50, 53, 55, 54, 53]), dtype=torch.float32).view(-1, 1)\n"
   ],
   "metadata": {
    "collapsed": false,
    "pycharm": {
     "name": "#%%\n"
    }
   }
  },
  {
   "cell_type": "code",
   "execution_count": null,
   "outputs": [],
   "source": [
    "class NeuralNetwork(nn.Module):\n",
    "    def __init__(self):\n",
    "        super(NeuralNetwork, self).__init__()\n",
    "        self.layer1 = nn.Linear(1, 32)\n",
    "        self.layer2 = nn.Linear(32, 64)\n",
    "        self.layer3 = nn.Linear(64, 1)\n",
    "\n",
    "    def forward(self, x):\n",
    "        x = torch.relu(self.layer1(x))\n",
    "        x = torch.relu(self.layer2(x))\n",
    "        x = self.layer3(x)\n",
    "        return x\n"
   ],
   "metadata": {
    "collapsed": false,
    "pycharm": {
     "name": "#%%\n"
    }
   }
  },
  {
   "cell_type": "code",
   "execution_count": null,
   "outputs": [],
   "source": [
    "def train_and_test_nn(train_indices, test_indices, epochs):\n",
    "    model = NeuralNetwork()\n",
    "    optimizer = optim.Adam(model.parameters(), lr=0.01)\n",
    "    criterion = nn.MSELoss()\n",
    "\n",
    "    train_X = X[train_indices]\n",
    "    train_Y = Y[train_indices]\n",
    "    test_X = X[test_indices]\n",
    "    test_Y = Y[test_indices]\n",
    "\n",
    "    num_epochs = epochs\n",
    "    for epoch in range(num_epochs):\n",
    "        optimizer.zero_grad()\n",
    "        output = model(train_X)\n",
    "        loss = criterion(output, train_Y)\n",
    "        loss.backward()\n",
    "        optimizer.step()\n",
    "        if (epoch % 100) == 0:\n",
    "            print(f\"Epoch {epoch} loss: {loss}\")\n",
    "\n",
    "    preds_train = model(train_X)\n",
    "    train_loss = criterion(preds_train, train_Y)\n",
    "\n",
    "    preds_test = model(test_X)\n",
    "    test_loss = criterion(preds_test, test_Y)\n",
    "    return train_loss, test_loss\n"
   ],
   "metadata": {
    "collapsed": false,
    "pycharm": {
     "name": "#%%\n"
    }
   }
  },
  {
   "cell_type": "code",
   "execution_count": null,
   "outputs": [],
   "source": [
    "\n",
    "\n",
    "print(\"Case (ii): First 20 points as training data\")\n",
    "train_error, test_error = train_and_test_nn(np.arange(20), np.arange(20, 30), 2000)\n",
    "print(f\"\\nTrain Error: {train_error}\\nTest Error: {test_error}\")\n",
    "\n",
    "print(\"\\nCase (iii): First 10 and last 10 points as training data\")\n",
    "train_error2, test_error2 = train_and_test_nn(np.hstack([np.arange(10), np.arange(21, 31)]), np.arange(10, 21), 2000)\n",
    "print(f\"\\nTrain Error: {train_error2}\\nTest Error: {test_error2}\")"
   ],
   "metadata": {
    "collapsed": false,
    "pycharm": {
     "name": "#%%\n"
    }
   }
  },
  {
   "cell_type": "code",
   "execution_count": null,
   "outputs": [],
   "source": [
    "#HW 1 Scores:\n",
    "#1\n",
    "# Error for Line (Train): 2.242749386808538\n",
    "# Error for Parabola (Train): 2.1255393482773766\n",
    "# Error for Polynomial (Train): 0.028351503968806435\n",
    "# Error for Line (Test): 3.36363873604787\n",
    "# Error for Parabola (Test): 8.713651781874919\n",
    "# Error for Polynomial (Test): 28617752784.428474\n",
    "\n",
    "#2\n",
    "# Error for Line (Train): 1.851669904329375\n",
    "# Error for Parabola (Train): 1.8508364115957907\n",
    "# Error for Polynomial (Train): 0.1638133765080727\n",
    "# Error for Line (Test): 2.8065076975181618\n",
    "# Error for Parabola (Test): 2.774982896893291\n",
    "# Error for Polynomial (Test): 483.9099124568562"
   ],
   "metadata": {
    "collapsed": false,
    "pycharm": {
     "name": "#%%\n"
    }
   }
  },
  {
   "cell_type": "code",
   "execution_count": null,
   "outputs": [],
   "source": [
    "#HW1\n",
    "X = np.arange(0, 31)\n",
    "Y = np.array([30, 35, 33, 32, 34, 37, 39, 38, 36, 36, 37, 39, 42, 45, 45, 41,\n",
    "40, 39, 42, 44, 47, 49, 50, 49, 46, 48, 50, 53, 55, 54, 53])\n",
    "X_train = X[:20]\n",
    "X_test = X[20:]\n",
    "Y_train = Y[:20]\n",
    "Y_test = Y[20:]\n",
    "def calc_error(coeffs, X, Y):\n",
    "    function = np.poly1d(coeffs)\n",
    "    pred = function(X)\n",
    "    errors2 = (pred - Y) ** 2\n",
    "    return math.sqrt(np.sum(errors2) / len(X))\n",
    "line = np.polyfit(X_train, Y_train, 1)\n",
    "parabola = np.polyfit(X_train, Y_train, 2)\n",
    "poly = np.polyfit(X_train, Y_train, 19)\n",
    "\n",
    "error_line_train = calc_error(line, X_train, Y_train)\n",
    "error_parabola_train = calc_error(parabola, X_train, Y_train)\n",
    "error_poly_train = calc_error(poly, X_train, Y_train)\n",
    "error_line_test = calc_error(line, X_test, Y_test)\n",
    "error_parabola_test = calc_error(parabola, X_test, Y_test)\n",
    "error_poly_test = calc_error(poly, X_test, Y_test)\n",
    "error_vals = [error_line_train, error_parabola_train, error_poly_train,\n",
    "              error_line_test, error_parabola_test, error_poly_test]\n",
    "names2 = [\"Line (Train)\", \"Parabola (Train)\", \"Polynomial (Train)\",\n",
    "          \"Line (Test)\", \"Parabola (Test)\", \"Polynomial (Test)\"]\n",
    "for i in range(6):\n",
    "    print(f\"Error for {names2[i]}: {error_vals[i]}\")\n",
    "\n",
    "#Part II (iv)\n",
    "X_train2 = X[:10]\n",
    "X_train2 = np.concatenate((X_train2, X[21:]))\n",
    "Y_train2 = Y[:10]\n",
    "Y_train2 = np.concatenate((Y_train2, Y[21:]))\n",
    "X_test2 = X[10:21]\n",
    "Y_test2 = Y[10:21]\n",
    "line2 = np.polyfit(X_train2, Y_train2, 1)\n",
    "parabola2 = np.polyfit(X_train2, Y_train2, 2)\n",
    "poly2 = np.polyfit(X_train2, Y_train2, 19)\n",
    "error_line_train2 = calc_error(line2, X_train2, Y_train2)\n",
    "error_parabola_train2 = calc_error(parabola2, X_train2, Y_train2)\n",
    "error_poly_train2 = calc_error(poly2, X_train2, Y_train2)\n",
    "error_line_test2 = calc_error(line2, X_test2, Y_test2)\n",
    "error_parabola_test2 = calc_error(parabola2, X_test2, Y_test2)\n",
    "error_poly_test2 = calc_error(poly2, X_test2, Y_test2)\n",
    "error_vals = [error_line_train2, error_parabola_train2, error_poly_train2,\n",
    "              error_line_test2, error_parabola_test2, error_poly_test2]\n",
    "names3 = [\"Line (Train)\", \"Parabola (Train)\", \"Polynomial (Train)\",\n",
    "          \"Line (Test)\", \"Parabola (Test)\", \"Polynomial (Test)\"]\n",
    "for i in range(6):\n",
    "    print(f\"Error for {names2[i]}: {error_vals[i]}\")\n",
    "\n"
   ],
   "metadata": {
    "collapsed": false,
    "pycharm": {
     "name": "#%%\n"
    }
   }
  },
  {
   "cell_type": "code",
   "execution_count": null,
   "outputs": [],
   "source": [
    "import torch\n",
    "import torchvision\n",
    "from torchvision import transforms\n",
    "from sklearn.decomposition import PCA\n",
    "import numpy as np\n",
    "\n",
    "# Load the MNIST train and test datasets\n",
    "transform = transforms.Compose([transforms.ToTensor(), transforms.Normalize((0.1307,), (0.3081,))])\n",
    "train_dataset = torchvision.datasets.MNIST('~/.torch/datasets', train=True, download=True, transform=transform)\n",
    "test_dataset = torchvision.datasets.MNIST('~/.torch/datasets', train=False, download=True, transform=transform)\n",
    "\n",
    "# Compute the first 20 PCA modes of the digit images\n",
    "train_data = train_dataset.data.numpy().reshape(-1, 28*28)\n",
    "pca = PCA(n_components=20)\n",
    "pca.fit(train_data)\n",
    "print(f'First 20 PCA Modes:\\n{pca.components_}')\n",
    "\n",
    "# Loaders for the train and test datasets\n",
    "train_loader = torch.utils.data.DataLoader(train_dataset, batch_size=64, shuffle=True)\n",
    "test_loader = torch.utils.data.DataLoader(test_dataset, batch_size=1000)\n",
    "\n",
    "# Define the neural network\n",
    "class FeedForwardNN(torch.nn.Module):\n",
    "    def __init__(self):\n",
    "        super().__init__()\n",
    "        self.fc1 = torch.nn.Linear(28 * 28, 256)\n",
    "        self.fc2 = torch.nn.Linear(256, 128)\n",
    "        self.fc3 = torch.nn.Linear(128, 10)\n",
    "\n",
    "    def forward(self, x):\n",
    "        x = torch.relu(self.fc1(x))\n",
    "        x = torch.relu(self.fc2(x))\n",
    "        x = self.fc3(x)\n",
    "        return x\n",
    "\n",
    "# Initialize the model, loss function, and optimizer\n",
    "model = FeedForwardNN()\n",
    "criterion = torch.nn.CrossEntropyLoss()\n",
    "optimizer = torch.optim.SGD(model.parameters(), lr=0.01)\n",
    "\n",
    "# Train the neural network\n",
    "num_epochs = 10\n",
    "for epoch in range(num_epochs):\n",
    "    for i, (data, targets) in enumerate(train_loader):\n",
    "        # Reshape the data and perform the forward pass\n",
    "        data = data.view(data.size(0), -1)\n",
    "        predictions = model(data)\n",
    "\n",
    "        # Compute the loss, gradients, and update the parameters\n",
    "        loss = criterion(predictions, targets)\n",
    "        optimizer.zero_grad()\n",
    "        loss.backward()\n",
    "        optimizer.step()\n",
    "        if (i + 1) % 100 == 0:\n",
    "            print(f'Epoch [{epoch + 1}/{num_epochs}], Step [{i + 1}/{len(train_loader)}], Loss: {loss.item():.4f}')\n",
    "\n",
    "\n",
    "# Test the neural network\n",
    "correct = 0\n",
    "total = 0\n",
    "with torch.no_grad():\n",
    "    for data, targets in test_loader:\n",
    "        # Reshape the data and perform the forward pass\n",
    "        data = data.view(data.size(0), -1)\n",
    "        predictions = model(data)\n",
    "\n",
    "        # Compute the number of correct predictions\n",
    "        _, predicted = torch.max(predictions.data, 1)\n",
    "        total += targets.size(0)\n",
    "        correct += (predicted == targets).sum().item()\n",
    "\n",
    "print(f'Accuracy of the network on the 10000 test images: {100 * correct / total:.2f}')\n"
   ],
   "metadata": {
    "collapsed": false,
    "pycharm": {
     "name": "#%%\n"
    }
   }
  },
  {
   "cell_type": "code",
   "execution_count": null,
   "outputs": [],
   "source": [
    "#HW3 Scores:\n",
    "#Tree: 0.8769\n",
    "#SVM: 0.9792\n",
    "#LDA: 0.8730\n"
   ],
   "metadata": {
    "collapsed": false,
    "pycharm": {
     "name": "#%%\n"
    }
   }
  },
  {
   "cell_type": "code",
   "execution_count": null,
   "outputs": [],
   "source": [
    "#HW3\n",
    "\n",
    "#SVM LDA and Decision Trees\n",
    "\n"
   ],
   "metadata": {
    "collapsed": false,
    "pycharm": {
     "name": "#%%\n"
    }
   }
  },
  {
   "cell_type": "code",
   "execution_count": null,
   "outputs": [],
   "source": [
    "(X_train, y_train), (X_test, y_test) = mnist.load_data()\n",
    "X_train = X_train.reshape(60000, 784).T\n",
    "X_test = X_test.reshape(10000, 784).T"
   ],
   "metadata": {
    "collapsed": false,
    "pycharm": {
     "name": "#%%\n"
    }
   }
  },
  {
   "cell_type": "code",
   "execution_count": null,
   "outputs": [],
   "source": [],
   "metadata": {
    "collapsed": false,
    "pycharm": {
     "name": "#%%\n"
    }
   }
  },
  {
   "cell_type": "code",
   "execution_count": null,
   "outputs": [],
   "source": [
    "tree = DecisionTreeClassifier(random_state=44)\n",
    "tree.fit(X_train.T, y_train)\n",
    "y_pred_tree = tree.predict(X_test.T)\n",
    "accuracy_tree = accuracy_score(y_test, y_pred_tree)\n",
    "print(accuracy_tree)"
   ],
   "metadata": {
    "collapsed": false,
    "pycharm": {
     "name": "#%%\n"
    }
   }
  },
  {
   "cell_type": "code",
   "execution_count": null,
   "outputs": [],
   "source": [
    "# svm = SVC(probability=False)\n",
    "# svm.fit(X_train.T, y_train)\n",
    "# y_pred_svm = svm.predict(X_test.T)\n",
    "# accuracy_svm = accuracy_score(y_test, y_pred_svm)\n",
    "# print(accuracy_svm)"
   ],
   "metadata": {
    "collapsed": false,
    "pycharm": {
     "name": "#%%\n"
    }
   }
  },
  {
   "cell_type": "code",
   "execution_count": null,
   "outputs": [],
   "source": [
    "\n",
    "\n",
    "transform = transforms.Compose([transforms.ToTensor(), transforms.Normalize((0.1307,), (0.3081,))])\n",
    "train_dataset = torchvision.datasets.MNIST('~/.torch/datasets', train=True, download=True, transform=transform)\n",
    "test_dataset = torchvision.datasets.MNIST('~/.torch/datasets', train=False, download=True, transform=transform)\n",
    "\n",
    "train_loader = torch.utils.data.DataLoader(train_dataset, batch_size=64, shuffle=True)\n",
    "test_loader = torch.utils.data.DataLoader(test_dataset, batch_size=1000)\n",
    "\n",
    "class MnistLSTM(nn.Module):\n",
    "    def __init__(self, input_size, hidden_size, num_layers, num_classes):\n",
    "        super(MnistLSTM, self).__init__()\n",
    "        self.hidden_size = hidden_size\n",
    "        self.num_layers = num_layers\n",
    "        self.lstm = nn.LSTM(input_size, hidden_size, num_layers, batch_first=True)\n",
    "        self.fc = nn.Linear(hidden_size, num_classes)\n",
    "\n",
    "    def forward(self, x):\n",
    "        h0 = torch.zeros(self.num_layers, x.size(0), self.hidden_size).cuda()\n",
    "        c0 = torch.zeros(self.num_layers, x.size(0), self.hidden_size).cuda()\n",
    "\n",
    "        out, _ = self.lstm(x, (h0, c0))\n",
    "\n",
    "        out = self.fc(out[:, -1, :])\n",
    "        return out\n",
    "\n",
    "input_size = 28\n",
    "hidden_size = 128\n",
    "num_layers = 2\n",
    "num_classes = 10\n",
    "device = torch.device('cuda' if torch.cuda.is_available() else 'cpu')\n",
    "\n",
    "model = MnistLSTM(input_size, hidden_size, num_layers, num_classes).to(device)\n",
    "\n",
    "criterion = nn.CrossEntropyLoss()\n",
    "optimizer = torch.optim.Adam(model.parameters(), lr=0.001)\n",
    "\n",
    "num_epochs = 10\n",
    "\n",
    "for epoch in range(num_epochs):\n",
    "    for i, (images, labels) in enumerate(train_loader):\n",
    "        images = images.reshape(-1, 28, 28).to(device)\n",
    "        labels = labels.to(device)\n",
    "\n",
    "        # Forward pass\n",
    "        outputs = model(images)\n",
    "        loss = criterion(outputs, labels)\n",
    "\n",
    "        # Backward pass\n",
    "        optimizer.zero_grad()\n",
    "        loss.backward()\n",
    "        optimizer.step()\n",
    "\n",
    "        if (i + 1) % 100 == 0:\n",
    "            print(f'Epoch [{epoch + 1}/{num_epochs}], Step [{i + 1}/{len(train_loader)}], Loss: {loss.item():.4f}')\n",
    "\n",
    "with torch.no_grad():\n",
    "    correct = 0\n",
    "    total = 0\n",
    "\n",
    "    for images, labels in test_loader:\n",
    "        images = images.reshape(-1, 28, 28).to(device)\n",
    "        labels = labels.to(device)\n",
    "        outputs = model(images)\n",
    "        _, predicted = torch.max(outputs.data, 1)\n",
    "        total += labels.size(0)\n",
    "        correct += (predicted == labels).sum().item()\n",
    "\n",
    "    print('Accuracy of the model on the test images: {:.2f}%'.format(100 * correct / total))"
   ],
   "metadata": {
    "collapsed": false,
    "pycharm": {
     "name": "#%%\n"
    }
   }
  },
  {
   "cell_type": "code",
   "execution_count": 2,
   "outputs": [
    {
     "ename": "OSError",
     "evalue": "[WinError 182] The operating system cannot run %1. Error loading \"C:\\Users\\jleus\\anaconda3\\lib\\site-packages\\torch\\lib\\shm.dll\" or one of its dependencies.",
     "output_type": "error",
     "traceback": [
      "\u001B[1;31m---------------------------------------------------------------------------\u001B[0m",
      "\u001B[1;31mOSError\u001B[0m                                   Traceback (most recent call last)",
      "Input \u001B[1;32mIn [2]\u001B[0m, in \u001B[0;36m<cell line: 1>\u001B[1;34m()\u001B[0m\n\u001B[1;32m----> 1\u001B[0m \u001B[38;5;28;01mimport\u001B[39;00m \u001B[38;5;21;01mtorch\u001B[39;00m\n",
      "File \u001B[1;32m~\\anaconda3\\lib\\site-packages\\torch\\__init__.py:122\u001B[0m, in \u001B[0;36m<module>\u001B[1;34m\u001B[0m\n\u001B[0;32m    120\u001B[0m     err \u001B[38;5;241m=\u001B[39m ctypes\u001B[38;5;241m.\u001B[39mWinError(last_error)\n\u001B[0;32m    121\u001B[0m     err\u001B[38;5;241m.\u001B[39mstrerror \u001B[38;5;241m+\u001B[39m\u001B[38;5;241m=\u001B[39m \u001B[38;5;124mf\u001B[39m\u001B[38;5;124m'\u001B[39m\u001B[38;5;124m Error loading \u001B[39m\u001B[38;5;124m\"\u001B[39m\u001B[38;5;132;01m{\u001B[39;00mdll\u001B[38;5;132;01m}\u001B[39;00m\u001B[38;5;124m\"\u001B[39m\u001B[38;5;124m or one of its dependencies.\u001B[39m\u001B[38;5;124m'\u001B[39m\n\u001B[1;32m--> 122\u001B[0m     \u001B[38;5;28;01mraise\u001B[39;00m err\n\u001B[0;32m    123\u001B[0m \u001B[38;5;28;01melif\u001B[39;00m res \u001B[38;5;129;01mis\u001B[39;00m \u001B[38;5;129;01mnot\u001B[39;00m \u001B[38;5;28;01mNone\u001B[39;00m:\n\u001B[0;32m    124\u001B[0m     is_loaded \u001B[38;5;241m=\u001B[39m \u001B[38;5;28;01mTrue\u001B[39;00m\n",
      "\u001B[1;31mOSError\u001B[0m: [WinError 182] The operating system cannot run %1. Error loading \"C:\\Users\\jleus\\anaconda3\\lib\\site-packages\\torch\\lib\\shm.dll\" or one of its dependencies."
     ]
    }
   ],
   "source": [],
   "metadata": {
    "collapsed": false,
    "pycharm": {
     "name": "#%%\n"
    }
   }
  }
 ],
 "metadata": {
  "kernelspec": {
   "display_name": "Python 3",
   "language": "python",
   "name": "python3"
  },
  "language_info": {
   "codemirror_mode": {
    "name": "ipython",
    "version": 2
   },
   "file_extension": ".py",
   "mimetype": "text/x-python",
   "name": "python",
   "nbconvert_exporter": "python",
   "pygments_lexer": "ipython2",
   "version": "2.7.6"
  }
 },
 "nbformat": 4,
 "nbformat_minor": 0
}