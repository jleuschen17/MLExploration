{
 "cells": [
  {
   "cell_type": "code",
   "execution_count": 51,
   "metadata": {
    "collapsed": true,
    "pycharm": {
     "name": "#%%\n"
    }
   },
   "outputs": [],
   "source": [
    "import pandas as pd"
   ]
  },
  {
   "cell_type": "code",
   "execution_count": 52,
   "outputs": [],
   "source": [
    "df = pd.read_csv(\"EYCL Phoenix Rosters  - Sheet1.csv\")"
   ],
   "metadata": {
    "collapsed": false,
    "pycharm": {
     "name": "#%%\n"
    }
   }
  },
  {
   "cell_type": "code",
   "execution_count": 53,
   "outputs": [],
   "source": [
    "df['FIRSTNAME'] = 'Athlete'"
   ],
   "metadata": {
    "collapsed": false,
    "pycharm": {
     "name": "#%%\n"
    }
   }
  },
  {
   "cell_type": "code",
   "execution_count": 54,
   "outputs": [
    {
     "data": {
      "text/plain": "    DIVISION                TEAMNAME FIRSTNAME          LASTNAME  PLAYERID  \\\n0       EYCL  17s UPLAY EYCL Phoenix   Athlete     Abraham Osman       NaN   \n1       EYCL  17s UPLAY EYCL Phoenix   Athlete    Christian Nitu       NaN   \n2       EYCL  17s UPLAY EYCL Phoenix   Athlete       Diego Ramos       NaN   \n3       EYCL  17s UPLAY EYCL Phoenix   Athlete       Hudson Ward       NaN   \n4       EYCL  17s UPLAY EYCL Phoenix   Athlete    Ibrahima Sacko       NaN   \n..       ...                     ...       ...               ...       ...   \n166     EYCL  UPLAY Western Alliance   Athlete       Kai Gibbons       NaN   \n167     EYCL  UPLAY Western Alliance   Athlete       Luke Linder       NaN   \n168     EYCL  UPLAY Western Alliance   Athlete  Mikyle Malabuyoc       NaN   \n169     EYCL  UPLAY Western Alliance   Athlete        Roko Maric       NaN   \n170     EYCL  UPLAY Western Alliance   Athlete         Shem Sawy       NaN   \n\n     EMAIL  HOMEPHONE  MOBILEPHONE  BIRTHDATE  STREETADDRESS  ...  GPA  \\\n0      NaN        NaN          NaN        NaN            NaN  ...  NaN   \n1      NaN        NaN          NaN        NaN            NaN  ...  NaN   \n2      NaN        NaN          NaN        NaN            NaN  ...  NaN   \n3      NaN        NaN          NaN        NaN            NaN  ...  NaN   \n4      NaN        NaN          NaN        NaN            NaN  ...  NaN   \n..     ...        ...          ...        ...            ...  ...  ...   \n166    NaN        NaN          NaN        NaN            NaN  ...  NaN   \n167    NaN        NaN          NaN        NaN            NaN  ...  NaN   \n168    NaN        NaN          NaN        NaN            NaN  ...  NaN   \n169    NaN        NaN          NaN        NaN            NaN  ...  NaN   \n170    NaN        NaN          NaN        NaN            NaN  ...  NaN   \n\n     AAUMEMBERSHIPID  GUARDIANROLE  GUARDIANFIRSTNAME  GUARDIANLASTNAME  \\\n0                NaN           NaN                NaN               NaN   \n1                NaN           NaN                NaN               NaN   \n2                NaN           NaN                NaN               NaN   \n3                NaN           NaN                NaN               NaN   \n4                NaN           NaN                NaN               NaN   \n..               ...           ...                ...               ...   \n166              NaN           NaN                NaN               NaN   \n167              NaN           NaN                NaN               NaN   \n168              NaN           NaN                NaN               NaN   \n169              NaN           NaN                NaN               NaN   \n170              NaN           NaN                NaN               NaN   \n\n     GUARDIANPHONE  GUARDIANPHONECARRIER  GUARDIANEMAIL  EXTERNALPLAYERID  \\\n0              NaN                   NaN            NaN               NaN   \n1              NaN                   NaN            NaN               NaN   \n2              NaN                   NaN            NaN               NaN   \n3              NaN                   NaN            NaN               NaN   \n4              NaN                   NaN            NaN               NaN   \n..             ...                   ...            ...               ...   \n166            NaN                   NaN            NaN               NaN   \n167            NaN                   NaN            NaN               NaN   \n168            NaN                   NaN            NaN               NaN   \n169            NaN                   NaN            NaN               NaN   \n170            NaN                   NaN            NaN               NaN   \n\n     CUSTOMFIELDS  \n0             NaN  \n1             NaN  \n2             NaN  \n3             NaN  \n4             NaN  \n..            ...  \n166           NaN  \n167           NaN  \n168           NaN  \n169           NaN  \n170           NaN  \n\n[171 rows x 40 columns]",
      "text/html": "<div>\n<style scoped>\n    .dataframe tbody tr th:only-of-type {\n        vertical-align: middle;\n    }\n\n    .dataframe tbody tr th {\n        vertical-align: top;\n    }\n\n    .dataframe thead th {\n        text-align: right;\n    }\n</style>\n<table border=\"1\" class=\"dataframe\">\n  <thead>\n    <tr style=\"text-align: right;\">\n      <th></th>\n      <th>DIVISION</th>\n      <th>TEAMNAME</th>\n      <th>FIRSTNAME</th>\n      <th>LASTNAME</th>\n      <th>PLAYERID</th>\n      <th>EMAIL</th>\n      <th>HOMEPHONE</th>\n      <th>MOBILEPHONE</th>\n      <th>BIRTHDATE</th>\n      <th>STREETADDRESS</th>\n      <th>...</th>\n      <th>GPA</th>\n      <th>AAUMEMBERSHIPID</th>\n      <th>GUARDIANROLE</th>\n      <th>GUARDIANFIRSTNAME</th>\n      <th>GUARDIANLASTNAME</th>\n      <th>GUARDIANPHONE</th>\n      <th>GUARDIANPHONECARRIER</th>\n      <th>GUARDIANEMAIL</th>\n      <th>EXTERNALPLAYERID</th>\n      <th>CUSTOMFIELDS</th>\n    </tr>\n  </thead>\n  <tbody>\n    <tr>\n      <th>0</th>\n      <td>EYCL</td>\n      <td>17s UPLAY EYCL Phoenix</td>\n      <td>Athlete</td>\n      <td>Abraham Osman</td>\n      <td>NaN</td>\n      <td>NaN</td>\n      <td>NaN</td>\n      <td>NaN</td>\n      <td>NaN</td>\n      <td>NaN</td>\n      <td>...</td>\n      <td>NaN</td>\n      <td>NaN</td>\n      <td>NaN</td>\n      <td>NaN</td>\n      <td>NaN</td>\n      <td>NaN</td>\n      <td>NaN</td>\n      <td>NaN</td>\n      <td>NaN</td>\n      <td>NaN</td>\n    </tr>\n    <tr>\n      <th>1</th>\n      <td>EYCL</td>\n      <td>17s UPLAY EYCL Phoenix</td>\n      <td>Athlete</td>\n      <td>Christian Nitu</td>\n      <td>NaN</td>\n      <td>NaN</td>\n      <td>NaN</td>\n      <td>NaN</td>\n      <td>NaN</td>\n      <td>NaN</td>\n      <td>...</td>\n      <td>NaN</td>\n      <td>NaN</td>\n      <td>NaN</td>\n      <td>NaN</td>\n      <td>NaN</td>\n      <td>NaN</td>\n      <td>NaN</td>\n      <td>NaN</td>\n      <td>NaN</td>\n      <td>NaN</td>\n    </tr>\n    <tr>\n      <th>2</th>\n      <td>EYCL</td>\n      <td>17s UPLAY EYCL Phoenix</td>\n      <td>Athlete</td>\n      <td>Diego Ramos</td>\n      <td>NaN</td>\n      <td>NaN</td>\n      <td>NaN</td>\n      <td>NaN</td>\n      <td>NaN</td>\n      <td>NaN</td>\n      <td>...</td>\n      <td>NaN</td>\n      <td>NaN</td>\n      <td>NaN</td>\n      <td>NaN</td>\n      <td>NaN</td>\n      <td>NaN</td>\n      <td>NaN</td>\n      <td>NaN</td>\n      <td>NaN</td>\n      <td>NaN</td>\n    </tr>\n    <tr>\n      <th>3</th>\n      <td>EYCL</td>\n      <td>17s UPLAY EYCL Phoenix</td>\n      <td>Athlete</td>\n      <td>Hudson Ward</td>\n      <td>NaN</td>\n      <td>NaN</td>\n      <td>NaN</td>\n      <td>NaN</td>\n      <td>NaN</td>\n      <td>NaN</td>\n      <td>...</td>\n      <td>NaN</td>\n      <td>NaN</td>\n      <td>NaN</td>\n      <td>NaN</td>\n      <td>NaN</td>\n      <td>NaN</td>\n      <td>NaN</td>\n      <td>NaN</td>\n      <td>NaN</td>\n      <td>NaN</td>\n    </tr>\n    <tr>\n      <th>4</th>\n      <td>EYCL</td>\n      <td>17s UPLAY EYCL Phoenix</td>\n      <td>Athlete</td>\n      <td>Ibrahima Sacko</td>\n      <td>NaN</td>\n      <td>NaN</td>\n      <td>NaN</td>\n      <td>NaN</td>\n      <td>NaN</td>\n      <td>NaN</td>\n      <td>...</td>\n      <td>NaN</td>\n      <td>NaN</td>\n      <td>NaN</td>\n      <td>NaN</td>\n      <td>NaN</td>\n      <td>NaN</td>\n      <td>NaN</td>\n      <td>NaN</td>\n      <td>NaN</td>\n      <td>NaN</td>\n    </tr>\n    <tr>\n      <th>...</th>\n      <td>...</td>\n      <td>...</td>\n      <td>...</td>\n      <td>...</td>\n      <td>...</td>\n      <td>...</td>\n      <td>...</td>\n      <td>...</td>\n      <td>...</td>\n      <td>...</td>\n      <td>...</td>\n      <td>...</td>\n      <td>...</td>\n      <td>...</td>\n      <td>...</td>\n      <td>...</td>\n      <td>...</td>\n      <td>...</td>\n      <td>...</td>\n      <td>...</td>\n      <td>...</td>\n    </tr>\n    <tr>\n      <th>166</th>\n      <td>EYCL</td>\n      <td>UPLAY Western Alliance</td>\n      <td>Athlete</td>\n      <td>Kai Gibbons</td>\n      <td>NaN</td>\n      <td>NaN</td>\n      <td>NaN</td>\n      <td>NaN</td>\n      <td>NaN</td>\n      <td>NaN</td>\n      <td>...</td>\n      <td>NaN</td>\n      <td>NaN</td>\n      <td>NaN</td>\n      <td>NaN</td>\n      <td>NaN</td>\n      <td>NaN</td>\n      <td>NaN</td>\n      <td>NaN</td>\n      <td>NaN</td>\n      <td>NaN</td>\n    </tr>\n    <tr>\n      <th>167</th>\n      <td>EYCL</td>\n      <td>UPLAY Western Alliance</td>\n      <td>Athlete</td>\n      <td>Luke Linder</td>\n      <td>NaN</td>\n      <td>NaN</td>\n      <td>NaN</td>\n      <td>NaN</td>\n      <td>NaN</td>\n      <td>NaN</td>\n      <td>...</td>\n      <td>NaN</td>\n      <td>NaN</td>\n      <td>NaN</td>\n      <td>NaN</td>\n      <td>NaN</td>\n      <td>NaN</td>\n      <td>NaN</td>\n      <td>NaN</td>\n      <td>NaN</td>\n      <td>NaN</td>\n    </tr>\n    <tr>\n      <th>168</th>\n      <td>EYCL</td>\n      <td>UPLAY Western Alliance</td>\n      <td>Athlete</td>\n      <td>Mikyle Malabuyoc</td>\n      <td>NaN</td>\n      <td>NaN</td>\n      <td>NaN</td>\n      <td>NaN</td>\n      <td>NaN</td>\n      <td>NaN</td>\n      <td>...</td>\n      <td>NaN</td>\n      <td>NaN</td>\n      <td>NaN</td>\n      <td>NaN</td>\n      <td>NaN</td>\n      <td>NaN</td>\n      <td>NaN</td>\n      <td>NaN</td>\n      <td>NaN</td>\n      <td>NaN</td>\n    </tr>\n    <tr>\n      <th>169</th>\n      <td>EYCL</td>\n      <td>UPLAY Western Alliance</td>\n      <td>Athlete</td>\n      <td>Roko Maric</td>\n      <td>NaN</td>\n      <td>NaN</td>\n      <td>NaN</td>\n      <td>NaN</td>\n      <td>NaN</td>\n      <td>NaN</td>\n      <td>...</td>\n      <td>NaN</td>\n      <td>NaN</td>\n      <td>NaN</td>\n      <td>NaN</td>\n      <td>NaN</td>\n      <td>NaN</td>\n      <td>NaN</td>\n      <td>NaN</td>\n      <td>NaN</td>\n      <td>NaN</td>\n    </tr>\n    <tr>\n      <th>170</th>\n      <td>EYCL</td>\n      <td>UPLAY Western Alliance</td>\n      <td>Athlete</td>\n      <td>Shem Sawy</td>\n      <td>NaN</td>\n      <td>NaN</td>\n      <td>NaN</td>\n      <td>NaN</td>\n      <td>NaN</td>\n      <td>NaN</td>\n      <td>...</td>\n      <td>NaN</td>\n      <td>NaN</td>\n      <td>NaN</td>\n      <td>NaN</td>\n      <td>NaN</td>\n      <td>NaN</td>\n      <td>NaN</td>\n      <td>NaN</td>\n      <td>NaN</td>\n      <td>NaN</td>\n    </tr>\n  </tbody>\n</table>\n<p>171 rows × 40 columns</p>\n</div>"
     },
     "execution_count": 54,
     "metadata": {},
     "output_type": "execute_result"
    }
   ],
   "source": [
    "df"
   ],
   "metadata": {
    "collapsed": false,
    "pycharm": {
     "name": "#%%\n"
    }
   }
  },
  {
   "cell_type": "code",
   "execution_count": 55,
   "outputs": [],
   "source": [
    "fnames = []\n",
    "lnames = []\n",
    "for i in df[\"LASTNAME\"]:\n",
    "    try:\n",
    "        fnames.append(i.split()[0])\n",
    "        lnames.append(i.split()[1])\n",
    "    except:\n",
    "        print(i)"
   ],
   "metadata": {
    "collapsed": false,
    "pycharm": {
     "name": "#%%\n"
    }
   }
  },
  {
   "cell_type": "code",
   "execution_count": 18,
   "outputs": [
    {
     "data": {
      "text/plain": "'Char Yeiy'"
     },
     "execution_count": 18,
     "metadata": {},
     "output_type": "execute_result"
    }
   ],
   "source": [],
   "metadata": {
    "collapsed": false,
    "pycharm": {
     "name": "#%%\n"
    }
   }
  },
  {
   "cell_type": "code",
   "execution_count": 56,
   "outputs": [],
   "source": [
    "for i in range(len(df)):\n",
    "    df.iloc[i, 2] = fnames[i]\n",
    "    df.iloc[i, 3] = lnames[i]"
   ],
   "metadata": {
    "collapsed": false,
    "pycharm": {
     "name": "#%%\n"
    }
   }
  },
  {
   "cell_type": "code",
   "execution_count": 59,
   "outputs": [],
   "source": [
    "df.to_csv(\"eycl.csv\")"
   ],
   "metadata": {
    "collapsed": false,
    "pycharm": {
     "name": "#%%\n"
    }
   }
  }
 ],
 "metadata": {
  "kernelspec": {
   "display_name": "Python 3",
   "language": "python",
   "name": "python3"
  },
  "language_info": {
   "codemirror_mode": {
    "name": "ipython",
    "version": 2
   },
   "file_extension": ".py",
   "mimetype": "text/x-python",
   "name": "python",
   "nbconvert_exporter": "python",
   "pygments_lexer": "ipython2",
   "version": "2.7.6"
  }
 },
 "nbformat": 4,
 "nbformat_minor": 0
}